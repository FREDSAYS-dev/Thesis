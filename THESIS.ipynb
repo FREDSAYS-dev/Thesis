# Resource Support and Resource-Based Performance Analysis

## Introduction
This section provides an overview of the resource support needed for effective performance analysis. It highlights the importance of utilizing available resources to enhance performance outcomes.

## Resource Support
- Identify key resources that contribute to performance.
- Analyze the availability and accessibility of these resources.
- Develop strategies to optimize resource utilization.

## Resource-Based Performance Analysis
1. **Criteria for Evaluation**
   - Establish clear performance metrics based on resource availability.
   - Assess the impact of resource allocation on performance outcomes.
2. **Analysis Techniques**
   - Use statistical methods to analyze performance data.
   - Implement case studies to illustrate resource impacts.
3. **Recommendations**
   - Provide actionable insights based on analysis findings.
   - Suggest improvements in resource management practices.

def npc_goal_success_rate(experiment_results, goal=4):
    """
    Calculate goal success rate (% of episodes where each agent reaches goal).
    """
    agent0_success = 0
    agent1_success = 0
    total = len(experiment_results)
    for result in experiment_results:
        log = result['Full Log']
        if not log:
            continue
        # Check if any step reached the goal for each agent
        agent0_goal = any(info[0]['pos'] == goal for info in [entry['info'] for entry in log])
        agent1_goal = any(info[1]['pos'] == goal for info in [entry['info'] for entry in log])
        if agent0_goal:
            agent0_success += 1
        if agent1_goal:
            agent1_success += 1
    rate0 = (agent0_success / total) * 100 if total else 0
    rate1 = (agent1_success / total) * 100 if total else 0
    print(f"Agent 0 Goal Success Rate: {rate0:.1f}% ({agent0_success}/{total})")
    print(f"Agent 1 Goal Success Rate: {rate1:.1f}% ({agent1_success}/{total})")

# Usage example (place after experiments run):
npc_goal_success_rate(experiment_results)