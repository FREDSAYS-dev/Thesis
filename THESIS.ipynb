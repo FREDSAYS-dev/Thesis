def categorize_npc_behavior(experiment_results, goal):
    """
    Assigns a label to each NPC based on their observed behavior.
    Categories:
      - Goal-Seeker: >70% of moves reduce distance to goal
      - Explorer: >50% of moves are neutral (do not change distance)
      - Other: otherwise
    Returns a list of (agent_index, label) tuples and prints the result.
    """
    labels = []
    for agent_idx in [0, 1]:  # Assuming two agents, adjust as needed
        total_moves = 0
        moves_toward_goal = 0
        neutral_moves = 0
        for result in experiment_results:
            log = result['Full Log']
            for entry in log:
                obs = entry['obs']
                actions = entry['actions']
                prev_dist = _distance(obs[agent_idx], goal)
                if isinstance(obs[agent_idx], (int, float)):
                    new_pos = obs[agent_idx] + actions[agent_idx]
                else:
                    new_pos = [o + a for o, a in zip(obs[agent_idx], actions[agent_idx])]
                new_dist = _distance(new_pos, goal)
                if new_dist < prev_dist:
                    moves_toward_goal += 1
                elif new_dist == prev_dist:
                    neutral_moves += 1
                total_moves += 1
        if total_moves == 0:
            label = "No Data"
        elif moves_toward_goal / total_moves > 0.7:
            label = "Goal-Seeker"
        elif neutral_moves / total_moves > 0.5:
            label = "Explorer"
        else:
            label = "Other"
        labels.append((f"Agent {agent_idx}", label))
    for agent, label in labels:
        print(f"{agent}: {label}")
    return labels

# Example usage:
# categorize_npc_behavior(experiment_results, goal=4)
